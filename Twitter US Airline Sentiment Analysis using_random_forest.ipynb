{
 "cells": [
  {
   "cell_type": "code",
   "execution_count": 116,
   "metadata": {},
   "outputs": [],
   "source": [
    "#importing some of the important libraries\n",
    "import pandas as pd\n",
    "import numpy as np\n",
    "from nltk.tokenize import word_tokenize,sent_tokenize\n",
    "import matplotlib.pyplot as plt\n",
    "import nltk\n",
    "from nltk.corpus import stopwords\n",
    "from sklearn import model_selection\n",
    "from sklearn.feature_extraction.text import TfidfVectorizer\n",
    "from nltk.stem import WordNetLemmatizer\n"
   ]
  },
  {
   "cell_type": "code",
   "execution_count": 117,
   "metadata": {},
   "outputs": [],
   "source": [
    "#loading the dataset\n",
    "file_data=pd.read_csv(r\"C:\\Users\\nidhi\\Downloads\\twitter train data.csv\",index_col=0)"
   ]
  },
  {
   "cell_type": "code",
   "execution_count": 118,
   "metadata": {},
   "outputs": [],
   "source": [
    "file_test_data=pd.read_csv(r\"C:\\Users\\nidhi\\Downloads\\twitter test data project.csv\",index_col=0)"
   ]
  },
  {
   "cell_type": "code",
   "execution_count": 119,
   "metadata": {},
   "outputs": [
    {
     "data": {
      "text/plain": [
       "((10980, 11), (3660, 10))"
      ]
     },
     "execution_count": 119,
     "metadata": {},
     "output_type": "execute_result"
    }
   ],
   "source": [
    "#knowing the shape of the dataset\n",
    "file_data.shape,file_test_data.shape"
   ]
  },
  {
   "cell_type": "code",
   "execution_count": 120,
   "metadata": {},
   "outputs": [
    {
     "data": {
      "text/html": [
       "<div>\n",
       "<style scoped>\n",
       "    .dataframe tbody tr th:only-of-type {\n",
       "        vertical-align: middle;\n",
       "    }\n",
       "\n",
       "    .dataframe tbody tr th {\n",
       "        vertical-align: top;\n",
       "    }\n",
       "\n",
       "    .dataframe thead th {\n",
       "        text-align: right;\n",
       "    }\n",
       "</style>\n",
       "<table border=\"1\" class=\"dataframe\">\n",
       "  <thead>\n",
       "    <tr style=\"text-align: right;\">\n",
       "      <th></th>\n",
       "      <th>retweet_count</th>\n",
       "    </tr>\n",
       "  </thead>\n",
       "  <tbody>\n",
       "    <tr>\n",
       "      <td>count</td>\n",
       "      <td>10980.000000</td>\n",
       "    </tr>\n",
       "    <tr>\n",
       "      <td>mean</td>\n",
       "      <td>0.080965</td>\n",
       "    </tr>\n",
       "    <tr>\n",
       "      <td>std</td>\n",
       "      <td>0.740303</td>\n",
       "    </tr>\n",
       "    <tr>\n",
       "      <td>min</td>\n",
       "      <td>0.000000</td>\n",
       "    </tr>\n",
       "    <tr>\n",
       "      <td>25%</td>\n",
       "      <td>0.000000</td>\n",
       "    </tr>\n",
       "    <tr>\n",
       "      <td>50%</td>\n",
       "      <td>0.000000</td>\n",
       "    </tr>\n",
       "    <tr>\n",
       "      <td>75%</td>\n",
       "      <td>0.000000</td>\n",
       "    </tr>\n",
       "    <tr>\n",
       "      <td>max</td>\n",
       "      <td>44.000000</td>\n",
       "    </tr>\n",
       "  </tbody>\n",
       "</table>\n",
       "</div>"
      ],
      "text/plain": [
       "       retweet_count\n",
       "count   10980.000000\n",
       "mean        0.080965\n",
       "std         0.740303\n",
       "min         0.000000\n",
       "25%         0.000000\n",
       "50%         0.000000\n",
       "75%         0.000000\n",
       "max        44.000000"
      ]
     },
     "execution_count": 120,
     "metadata": {},
     "output_type": "execute_result"
    }
   ],
   "source": [
    "file_data.describe()# knowing the numerical info about the dataset"
   ]
  },
  {
   "cell_type": "code",
   "execution_count": 121,
   "metadata": {},
   "outputs": [
    {
     "data": {
      "text/html": [
       "<div>\n",
       "<style scoped>\n",
       "    .dataframe tbody tr th:only-of-type {\n",
       "        vertical-align: middle;\n",
       "    }\n",
       "\n",
       "    .dataframe tbody tr th {\n",
       "        vertical-align: top;\n",
       "    }\n",
       "\n",
       "    .dataframe thead th {\n",
       "        text-align: right;\n",
       "    }\n",
       "</style>\n",
       "<table border=\"1\" class=\"dataframe\">\n",
       "  <thead>\n",
       "    <tr style=\"text-align: right;\">\n",
       "      <th></th>\n",
       "      <th>retweet_count</th>\n",
       "    </tr>\n",
       "  </thead>\n",
       "  <tbody>\n",
       "    <tr>\n",
       "      <td>count</td>\n",
       "      <td>3660.000000</td>\n",
       "    </tr>\n",
       "    <tr>\n",
       "      <td>mean</td>\n",
       "      <td>0.087705</td>\n",
       "    </tr>\n",
       "    <tr>\n",
       "      <td>std</td>\n",
       "      <td>0.762048</td>\n",
       "    </tr>\n",
       "    <tr>\n",
       "      <td>min</td>\n",
       "      <td>0.000000</td>\n",
       "    </tr>\n",
       "    <tr>\n",
       "      <td>25%</td>\n",
       "      <td>0.000000</td>\n",
       "    </tr>\n",
       "    <tr>\n",
       "      <td>50%</td>\n",
       "      <td>0.000000</td>\n",
       "    </tr>\n",
       "    <tr>\n",
       "      <td>75%</td>\n",
       "      <td>0.000000</td>\n",
       "    </tr>\n",
       "    <tr>\n",
       "      <td>max</td>\n",
       "      <td>32.000000</td>\n",
       "    </tr>\n",
       "  </tbody>\n",
       "</table>\n",
       "</div>"
      ],
      "text/plain": [
       "       retweet_count\n",
       "count    3660.000000\n",
       "mean        0.087705\n",
       "std         0.762048\n",
       "min         0.000000\n",
       "25%         0.000000\n",
       "50%         0.000000\n",
       "75%         0.000000\n",
       "max        32.000000"
      ]
     },
     "execution_count": 121,
     "metadata": {},
     "output_type": "execute_result"
    }
   ],
   "source": [
    "file_test_data.describe()"
   ]
  },
  {
   "cell_type": "code",
   "execution_count": 122,
   "metadata": {},
   "outputs": [
    {
     "data": {
      "text/plain": [
       "airline_sentiment         object\n",
       "airline                   object\n",
       "airline_sentiment_gold    object\n",
       "name                      object\n",
       "negativereason_gold       object\n",
       "retweet_count              int64\n",
       "text                      object\n",
       "tweet_coord               object\n",
       "tweet_created             object\n",
       "tweet_location            object\n",
       "user_timezone             object\n",
       "dtype: object"
      ]
     },
     "execution_count": 122,
     "metadata": {},
     "output_type": "execute_result"
    }
   ],
   "source": [
    "file_data.dtypes#knowing the type of features in the dataset"
   ]
  },
  {
   "cell_type": "code",
   "execution_count": 123,
   "metadata": {},
   "outputs": [
    {
     "data": {
      "text/plain": [
       "airline                   object\n",
       "airline_sentiment_gold    object\n",
       "name                      object\n",
       "negativereason_gold       object\n",
       "retweet_count              int64\n",
       "text                      object\n",
       "tweet_coord               object\n",
       "tweet_created             object\n",
       "tweet_location            object\n",
       "user_timezone             object\n",
       "dtype: object"
      ]
     },
     "execution_count": 123,
     "metadata": {},
     "output_type": "execute_result"
    }
   ],
   "source": [
    "file_test_data.dtypes"
   ]
  },
  {
   "cell_type": "code",
   "execution_count": 124,
   "metadata": {},
   "outputs": [
    {
     "name": "stdout",
     "output_type": "stream",
     "text": [
      "<class 'pandas.core.frame.DataFrame'>\n",
      "Float64Index: 10980 entries, 5.679e+17 to 5.68929e+17\n",
      "Data columns (total 11 columns):\n",
      "airline_sentiment         10980 non-null object\n",
      "airline                   10980 non-null object\n",
      "airline_sentiment_gold    31 non-null object\n",
      "name                      10980 non-null object\n",
      "negativereason_gold       24 non-null object\n",
      "retweet_count             10980 non-null int64\n",
      "text                      10980 non-null object\n",
      "tweet_coord               776 non-null object\n",
      "tweet_created             10980 non-null object\n",
      "tweet_location            7430 non-null object\n",
      "user_timezone             7403 non-null object\n",
      "dtypes: int64(1), object(10)\n",
      "memory usage: 1.0+ MB\n"
     ]
    }
   ],
   "source": [
    "file_data.info()# knowing the basic info about the features of the dataset"
   ]
  },
  {
   "cell_type": "code",
   "execution_count": 125,
   "metadata": {},
   "outputs": [
    {
     "name": "stdout",
     "output_type": "stream",
     "text": [
      "<class 'pandas.core.frame.DataFrame'>\n",
      "Float64Index: 3660 entries, 5.69682e+17 to 5.69342e+17\n",
      "Data columns (total 10 columns):\n",
      "airline                   3660 non-null object\n",
      "airline_sentiment_gold    9 non-null object\n",
      "name                      3660 non-null object\n",
      "negativereason_gold       8 non-null object\n",
      "retweet_count             3660 non-null int64\n",
      "text                      3660 non-null object\n",
      "tweet_coord               243 non-null object\n",
      "tweet_created             3660 non-null object\n",
      "tweet_location            2477 non-null object\n",
      "user_timezone             2417 non-null object\n",
      "dtypes: int64(1), object(9)\n",
      "memory usage: 314.5+ KB\n"
     ]
    }
   ],
   "source": [
    "file_test_data.info()"
   ]
  },
  {
   "cell_type": "code",
   "execution_count": 126,
   "metadata": {},
   "outputs": [
    {
     "data": {
      "text/plain": [
       "airline_sentiment         0.000000\n",
       "airline                   0.000000\n",
       "airline_sentiment_gold    0.997177\n",
       "name                      0.000000\n",
       "negativereason_gold       0.997814\n",
       "retweet_count             0.000000\n",
       "text                      0.000000\n",
       "tweet_coord               0.929326\n",
       "tweet_created             0.000000\n",
       "tweet_location            0.323315\n",
       "user_timezone             0.325774\n",
       "dtype: float64"
      ]
     },
     "execution_count": 126,
     "metadata": {},
     "output_type": "execute_result"
    }
   ],
   "source": [
    "file_data.isnull().sum()/file_data.shape[0]#knowing the ratio of the null values in the dataset in each column "
   ]
  },
  {
   "cell_type": "code",
   "execution_count": 127,
   "metadata": {},
   "outputs": [
    {
     "data": {
      "text/plain": [
       "airline                   0.000000\n",
       "airline_sentiment_gold    0.997541\n",
       "name                      0.000000\n",
       "negativereason_gold       0.997814\n",
       "retweet_count             0.000000\n",
       "text                      0.000000\n",
       "tweet_coord               0.933607\n",
       "tweet_created             0.000000\n",
       "tweet_location            0.323224\n",
       "user_timezone             0.339617\n",
       "dtype: float64"
      ]
     },
     "execution_count": 127,
     "metadata": {},
     "output_type": "execute_result"
    }
   ],
   "source": [
    "file_test_data.isnull().sum()/file_test_data.shape[0]"
   ]
  },
  {
   "cell_type": "code",
   "execution_count": 128,
   "metadata": {},
   "outputs": [
    {
     "data": {
      "text/html": [
       "<div>\n",
       "<style scoped>\n",
       "    .dataframe tbody tr th:only-of-type {\n",
       "        vertical-align: middle;\n",
       "    }\n",
       "\n",
       "    .dataframe tbody tr th {\n",
       "        vertical-align: top;\n",
       "    }\n",
       "\n",
       "    .dataframe thead th {\n",
       "        text-align: right;\n",
       "    }\n",
       "</style>\n",
       "<table border=\"1\" class=\"dataframe\">\n",
       "  <thead>\n",
       "    <tr style=\"text-align: right;\">\n",
       "      <th></th>\n",
       "      <th>airline_sentiment</th>\n",
       "      <th>airline</th>\n",
       "      <th>airline_sentiment_gold</th>\n",
       "      <th>name</th>\n",
       "      <th>negativereason_gold</th>\n",
       "      <th>retweet_count</th>\n",
       "      <th>text</th>\n",
       "      <th>tweet_coord</th>\n",
       "      <th>tweet_created</th>\n",
       "      <th>tweet_location</th>\n",
       "      <th>user_timezone</th>\n",
       "    </tr>\n",
       "    <tr>\n",
       "      <th>tweet_id</th>\n",
       "      <th></th>\n",
       "      <th></th>\n",
       "      <th></th>\n",
       "      <th></th>\n",
       "      <th></th>\n",
       "      <th></th>\n",
       "      <th></th>\n",
       "      <th></th>\n",
       "      <th></th>\n",
       "      <th></th>\n",
       "      <th></th>\n",
       "    </tr>\n",
       "  </thead>\n",
       "  <tbody>\n",
       "    <tr>\n",
       "      <td>5.679000e+17</td>\n",
       "      <td>negative</td>\n",
       "      <td>Southwest</td>\n",
       "      <td>NaN</td>\n",
       "      <td>ColeyGirouard</td>\n",
       "      <td>NaN</td>\n",
       "      <td>0</td>\n",
       "      <td>@SouthwestAir I am scheduled for the morning, ...</td>\n",
       "      <td>NaN</td>\n",
       "      <td>17-02-2015 20:16</td>\n",
       "      <td>Washington D.C.</td>\n",
       "      <td>Atlantic Time (Canada)</td>\n",
       "    </tr>\n",
       "    <tr>\n",
       "      <td>5.699890e+17</td>\n",
       "      <td>positive</td>\n",
       "      <td>Southwest</td>\n",
       "      <td>NaN</td>\n",
       "      <td>WalterFaddoul</td>\n",
       "      <td>NaN</td>\n",
       "      <td>0</td>\n",
       "      <td>@SouthwestAir seeing your workers time in and ...</td>\n",
       "      <td>NaN</td>\n",
       "      <td>23-02-2015 14:36</td>\n",
       "      <td>Indianapolis, Indiana; USA</td>\n",
       "      <td>Central Time (US &amp; Canada)</td>\n",
       "    </tr>\n",
       "    <tr>\n",
       "      <td>5.680890e+17</td>\n",
       "      <td>positive</td>\n",
       "      <td>United</td>\n",
       "      <td>NaN</td>\n",
       "      <td>LocalKyle</td>\n",
       "      <td>NaN</td>\n",
       "      <td>0</td>\n",
       "      <td>@united Flew ORD to Miami and back and  had gr...</td>\n",
       "      <td>NaN</td>\n",
       "      <td>18-02-2015 08:46</td>\n",
       "      <td>Illinois</td>\n",
       "      <td>Central Time (US &amp; Canada)</td>\n",
       "    </tr>\n",
       "    <tr>\n",
       "      <td>5.689280e+17</td>\n",
       "      <td>negative</td>\n",
       "      <td>Southwest</td>\n",
       "      <td>NaN</td>\n",
       "      <td>amccarthy19</td>\n",
       "      <td>NaN</td>\n",
       "      <td>0</td>\n",
       "      <td>@SouthwestAir @dultch97 that's horse radish 😤🐴</td>\n",
       "      <td>NaN</td>\n",
       "      <td>20-02-2015 16:20</td>\n",
       "      <td>NaN</td>\n",
       "      <td>Atlantic Time (Canada)</td>\n",
       "    </tr>\n",
       "    <tr>\n",
       "      <td>5.685940e+17</td>\n",
       "      <td>negative</td>\n",
       "      <td>United</td>\n",
       "      <td>NaN</td>\n",
       "      <td>J_Okayy</td>\n",
       "      <td>NaN</td>\n",
       "      <td>0</td>\n",
       "      <td>@united so our flight into ORD was delayed bec...</td>\n",
       "      <td>NaN</td>\n",
       "      <td>19-02-2015 18:13</td>\n",
       "      <td>NaN</td>\n",
       "      <td>Eastern Time (US &amp; Canada)</td>\n",
       "    </tr>\n",
       "  </tbody>\n",
       "</table>\n",
       "</div>"
      ],
      "text/plain": [
       "             airline_sentiment    airline airline_sentiment_gold  \\\n",
       "tweet_id                                                           \n",
       "5.679000e+17          negative  Southwest                    NaN   \n",
       "5.699890e+17          positive  Southwest                    NaN   \n",
       "5.680890e+17          positive     United                    NaN   \n",
       "5.689280e+17          negative  Southwest                    NaN   \n",
       "5.685940e+17          negative     United                    NaN   \n",
       "\n",
       "                       name negativereason_gold  retweet_count  \\\n",
       "tweet_id                                                         \n",
       "5.679000e+17  ColeyGirouard                 NaN              0   \n",
       "5.699890e+17  WalterFaddoul                 NaN              0   \n",
       "5.680890e+17      LocalKyle                 NaN              0   \n",
       "5.689280e+17    amccarthy19                 NaN              0   \n",
       "5.685940e+17        J_Okayy                 NaN              0   \n",
       "\n",
       "                                                           text tweet_coord  \\\n",
       "tweet_id                                                                      \n",
       "5.679000e+17  @SouthwestAir I am scheduled for the morning, ...         NaN   \n",
       "5.699890e+17  @SouthwestAir seeing your workers time in and ...         NaN   \n",
       "5.680890e+17  @united Flew ORD to Miami and back and  had gr...         NaN   \n",
       "5.689280e+17     @SouthwestAir @dultch97 that's horse radish 😤🐴         NaN   \n",
       "5.685940e+17  @united so our flight into ORD was delayed bec...         NaN   \n",
       "\n",
       "                 tweet_created              tweet_location  \\\n",
       "tweet_id                                                     \n",
       "5.679000e+17  17-02-2015 20:16             Washington D.C.   \n",
       "5.699890e+17  23-02-2015 14:36  Indianapolis, Indiana; USA   \n",
       "5.680890e+17  18-02-2015 08:46                    Illinois   \n",
       "5.689280e+17  20-02-2015 16:20                         NaN   \n",
       "5.685940e+17  19-02-2015 18:13                         NaN   \n",
       "\n",
       "                           user_timezone  \n",
       "tweet_id                                  \n",
       "5.679000e+17      Atlantic Time (Canada)  \n",
       "5.699890e+17  Central Time (US & Canada)  \n",
       "5.680890e+17  Central Time (US & Canada)  \n",
       "5.689280e+17      Atlantic Time (Canada)  \n",
       "5.685940e+17  Eastern Time (US & Canada)  "
      ]
     },
     "execution_count": 128,
     "metadata": {},
     "output_type": "execute_result"
    }
   ],
   "source": [
    "file_data.head()"
   ]
  },
  {
   "cell_type": "code",
   "execution_count": 129,
   "metadata": {},
   "outputs": [
    {
     "data": {
      "image/png": "[encoded data removed]",
      "text/plain": [
       "<Figure size 432x288 with 1 Axes>"
      ]
     },
     "metadata": {},
     "output_type": "display_data"
    }
   ],
   "source": [
    "#Exploration of Data \n",
    "#here we draw the pie chart of the proportion of the people giving tweets to various airlines.\n",
    "#we saw that people tweeted more about United Airlines\n",
    "ans=file_data[\"airline\"].value_counts()\n",
    "x=ans.index\n",
    "y=ans.values\n",
    "plt.pie(y,labels=x,autopct=\"%.2f%%\")\n",
    "plt.show()\n"
   ]
  },
  {
   "cell_type": "code",
   "execution_count": 130,
   "metadata": {},
   "outputs": [
    {
     "data": {
      "image/png": "[encoded data removed]",
      "text/plain": [
       "<Figure size 432x288 with 1 Axes>"
      ]
     },
     "metadata": {},
     "output_type": "display_data"
    }
   ],
   "source": [
    "ans=file_test_data[\"airline\"].value_counts()\n",
    "x=ans.index\n",
    "y=ans.values\n",
    "plt.pie(y,labels=x,autopct=\"%.2f%%\")\n",
    "plt.show()"
   ]
  },
  {
   "cell_type": "code",
   "execution_count": 131,
   "metadata": {},
   "outputs": [
    {
     "data": {
      "image/png": "[encoded data removed]",
      "text/plain": [
       "<Figure size 432x288 with 1 Axes>"
      ]
     },
     "metadata": {
      "needs_background": "light"
     },
     "output_type": "display_data"
    }
   ],
   "source": [
    "#After exploring the data we came to know that the number of negative tweets were very high and number of positive tweets were very low.\n",
    "ans1=file_data[\"airline_sentiment\"].value_counts()\n",
    "x=ans1.index\n",
    "y=ans1.values\n",
    "plt.bar(x,y)\n",
    "plt.show()"
   ]
  },
  {
   "cell_type": "code",
   "execution_count": 132,
   "metadata": {},
   "outputs": [
    {
     "data": {
      "text/plain": [
       "<matplotlib.axes._subplots.AxesSubplot at 0x274da58d248>"
      ]
     },
     "execution_count": 132,
     "metadata": {},
     "output_type": "execute_result"
    },
    {
     "data": {
      "image/png": "[encoded data removed]",
      "text/plain": [
       "<Figure size 432x288 with 1 Axes>"
      ]
     },
     "metadata": {
      "needs_background": "light"
     },
     "output_type": "display_data"
    }
   ],
   "source": [
    "airline_=file_data.groupby([\"airline\",\"airline_sentiment\"]).airline_sentiment.count().unstack()\n",
    "airline_.plot(kind=\"bar\")"
   ]
  },
  {
   "cell_type": "markdown",
   "metadata": {},
   "source": [
    " ### we here see airline wise number of  positive ,negative and neutral tweets .We also see that all the airlines have negative comments more ."
   ]
  },
  {
   "cell_type": "markdown",
   "metadata": {},
   "source": [
    "# Data Cleaning"
   ]
  },
  {
   "cell_type": "markdown",
   "metadata": {},
   "source": [
    "### Now we have explored the data and have gathered some relevant information of the number of the tweets of each respective airlines.Now our aim is to clean the tweets .Since the tweets consists of many slang words,emojis,punctuation marks,special characters and stopwords so we will clean the tweets "
   ]
  },
  {
   "cell_type": "code",
   "execution_count": 133,
   "metadata": {},
   "outputs": [],
   "source": [
    "file_data.reset_index('tweet_id', inplace=True)\n"
   ]
  },
  {
   "cell_type": "code",
   "execution_count": 134,
   "metadata": {},
   "outputs": [],
   "source": [
    "file_test_data.reset_index('tweet_id', inplace=True)"
   ]
  },
  {
   "cell_type": "code",
   "execution_count": 135,
   "metadata": {},
   "outputs": [],
   "source": [
    "file_data.columns\n",
    "file_data.reset_index(drop=True, inplace=True)"
   ]
  },
  {
   "cell_type": "code",
   "execution_count": 136,
   "metadata": {},
   "outputs": [
    {
     "data": {
      "text/plain": [
       "Index(['tweet_id', 'airline', 'airline_sentiment_gold', 'name',\n",
       "       'negativereason_gold', 'retweet_count', 'text', 'tweet_coord',\n",
       "       'tweet_created', 'tweet_location', 'user_timezone'],\n",
       "      dtype='object')"
      ]
     },
     "execution_count": 136,
     "metadata": {},
     "output_type": "execute_result"
    }
   ],
   "source": [
    "file_test_data.columns"
   ]
  },
  {
   "cell_type": "code",
   "execution_count": 137,
   "metadata": {},
   "outputs": [
    {
     "data": {
      "text/plain": [
       "Index(['tweet_id', 'airline_sentiment', 'airline', 'airline_sentiment_gold',\n",
       "       'name', 'negativereason_gold', 'retweet_count', 'text', 'tweet_coord',\n",
       "       'tweet_created', 'tweet_location', 'user_timezone'],\n",
       "      dtype='object')"
      ]
     },
     "execution_count": 137,
     "metadata": {},
     "output_type": "execute_result"
    }
   ],
   "source": [
    "file_data.columns"
   ]
  },
  {
   "cell_type": "code",
   "execution_count": 138,
   "metadata": {},
   "outputs": [],
   "source": [
    "target=file_data.iloc[:,1].values\n",
    "features=file_data.iloc[:,7].values"
   ]
  },
  {
   "cell_type": "code",
   "execution_count": 139,
   "metadata": {},
   "outputs": [],
   "source": [
    "test_twitter_data=file_test_data.iloc[:,6].values"
   ]
  },
  {
   "cell_type": "code",
   "execution_count": 140,
   "metadata": {},
   "outputs": [
    {
     "data": {
      "text/plain": [
       "array([\"@AmericanAir In car gng to DFW. Pulled over 1hr ago - very icy roads. On-hold with AA since 1hr. Can't reach arpt for AA2450. Wat 2 do?\",\n",
       "       '@AmericanAir after all, the plane didn’t land in identical or worse) conditions at GRK according to METARs.',\n",
       "       \"@SouthwestAir can't believe how many paying customers you left high and dry with no reason for flight Cancelled Flightlations Monday out of BDL! Wow.\",\n",
       "       ...,\n",
       "       'Nice RT @VirginAmerica: The man of steel might be faster, but we have WiFi – just saying. #ScienceBehindTheExperience http://t.co/FGRbpAZSiX',\n",
       "       '@AmericanAir Aww Thanks AA..DFW was on GMA up here this AM..so i understand ..Btw A.A is my Airline when im able to trv..Love you guys.:)',\n",
       "       '@united the lounge tells us they have no pillows for my grandma as one of the ladies opens the closet and I see 2 right there. #unitedlies'],\n",
       "      dtype=object)"
      ]
     },
     "execution_count": 140,
     "metadata": {},
     "output_type": "execute_result"
    }
   ],
   "source": [
    "test_twitter_data"
   ]
  },
  {
   "cell_type": "code",
   "execution_count": 141,
   "metadata": {},
   "outputs": [
    {
     "data": {
      "text/plain": [
       "array(['negative', 'positive', 'positive', ..., 'negative', 'negative',\n",
       "       'negative'], dtype=object)"
      ]
     },
     "execution_count": 141,
     "metadata": {},
     "output_type": "execute_result"
    }
   ],
   "source": [
    "target\n"
   ]
  },
  {
   "cell_type": "code",
   "execution_count": 142,
   "metadata": {},
   "outputs": [
    {
     "data": {
      "text/plain": [
       "array(['@SouthwestAir I am scheduled for the morning, 2 days after the fact, yes..not sure why my evening flight was the only one Cancelled Flightled',\n",
       "       '@SouthwestAir seeing your workers time in and time out going above and beyond is why I love flying with you guys. Thank you!',\n",
       "       '@united Flew ORD to Miami and back and  had great crew, service on both legs. THANKS',\n",
       "       ..., '@usairways the. Worst. Ever. #dca #customerservice',\n",
       "       '@nrhodes85: look! Another apology. DO NOT FLY @USAirways',\n",
       "       '@united you are by far the worst airline. 4 plane delays on 1 round trip flight. How is that possible.'],\n",
       "      dtype=object)"
      ]
     },
     "execution_count": 142,
     "metadata": {},
     "output_type": "execute_result"
    }
   ],
   "source": [
    "features"
   ]
  },
  {
   "cell_type": "code",
   "execution_count": 143,
   "metadata": {},
   "outputs": [],
   "source": [
    "# now we have to clean the tweets and for cleaning the tweets we have to remove stopwords and all punctuation mark\n",
    "words=stopwords.words(\"English\")\n",
    "stop_words=set(words)"
   ]
  },
  {
   "cell_type": "code",
   "execution_count": 144,
   "metadata": {},
   "outputs": [],
   "source": [
    "import string\n",
    "import re"
   ]
  },
  {
   "cell_type": "code",
   "execution_count": 145,
   "metadata": {},
   "outputs": [],
   "source": [
    "a=set(string.punctuation)\n",
    "stop_words.update(a)"
   ]
  },
  {
   "cell_type": "code",
   "execution_count": 146,
   "metadata": {},
   "outputs": [],
   "source": [
    "processed_features=[]\n",
    "for tweet in features:\n",
    "    tweet_change=processing_tweets(tweet)\n",
    "    processed_features.append(tweet_change)\n",
    "    \n",
    "    "
   ]
  },
  {
   "cell_type": "code",
   "execution_count": 147,
   "metadata": {},
   "outputs": [],
   "source": [
    "#preprocessing the tweets\n",
    "\n",
    "    \n",
    "def  processing_tweets(tweet):\n",
    "    #converting all the tweets to lowercase\n",
    "    tweet=tweet.lower()\n",
    "    #removing all the urls from the tweet\n",
    "    tweet = re.sub(r'http\\s+|www\\s+|https\\s+', '', tweet, flags=re.MULTILINE)\n",
    "    #removing # and @ from the tweets\n",
    "    tweet=re.sub(r'\\@\\w+|\\#','',tweet,flags=re.MULTILINE)\n",
    "    #first we will tokenize the tweets\n",
    "    tweets_token=word_tokenize(tweet)\n",
    "    filtered_words=[w for w in tweets_token if w not in stop_words]\n",
    "    #lemmatization\n",
    "    lemmatizer=WordNetLemmatizer()\n",
    "    lemma_words=[lemmatizer.lemmatize(w,pos=\"a\") for w in filtered_words]\n",
    "    \n",
    "    \n",
    "    return \" \".join(lemma_words)\n",
    "\n",
    "    \n",
    "    "
   ]
  },
  {
   "cell_type": "code",
   "execution_count": 148,
   "metadata": {},
   "outputs": [],
   "source": [
    "#importing tfIDF vectorizer\n",
    "vectorizer=TfidfVectorizer(max_features=3000,ngram_range=(1, 2),max_df=0.8,min_df=6)"
   ]
  },
  {
   "cell_type": "code",
   "execution_count": 149,
   "metadata": {},
   "outputs": [],
   "source": [
    "from sklearn.model_selection import train_test_split"
   ]
  },
  {
   "cell_type": "code",
   "execution_count": 150,
   "metadata": {},
   "outputs": [],
   "source": [
    "x_train,x_test,y_train,y_test=train_test_split(processed_features,target)"
   ]
  },
  {
   "cell_type": "code",
   "execution_count": 151,
   "metadata": {},
   "outputs": [],
   "source": [
    "features_process=vectorizer.fit_transform(x_train)\n",
    "test_data=vectorizer.transform(x_test)"
   ]
  },
  {
   "cell_type": "code",
   "execution_count": 152,
   "metadata": {},
   "outputs": [],
   "source": [
    "test_tfid_data=vectorizer.transform(test_twitter_data)"
   ]
  },
  {
   "cell_type": "code",
   "execution_count": 153,
   "metadata": {},
   "outputs": [
    {
     "data": {
      "text/plain": [
       "['00',\n",
       " '000',\n",
       " '10',\n",
       " '10 minutes',\n",
       " '100',\n",
       " '11',\n",
       " '12',\n",
       " '13',\n",
       " '130',\n",
       " '14',\n",
       " '15',\n",
       " '15 minutes',\n",
       " '150',\n",
       " '16',\n",
       " '17',\n",
       " '18',\n",
       " '19',\n",
       " '1hr',\n",
       " '1k',\n",
       " '1st',\n",
       " '1st class',\n",
       " '20',\n",
       " '20 min',\n",
       " '20 mins',\n",
       " '20 minutes',\n",
       " '200',\n",
       " '2015',\n",
       " '21',\n",
       " '22',\n",
       " '23',\n",
       " '24',\n",
       " '24 hours',\n",
       " '24hrs',\n",
       " '25',\n",
       " '25 min',\n",
       " '26',\n",
       " '27',\n",
       " '28',\n",
       " '2day',\n",
       " '2days',\n",
       " '2hrs',\n",
       " '2nd',\n",
       " '2nd time',\n",
       " '2x',\n",
       " '30',\n",
       " '30 min',\n",
       " '30 mins',\n",
       " '30 minutes',\n",
       " '300',\n",
       " '30am',\n",
       " '30pm',\n",
       " '32',\n",
       " '35',\n",
       " '3am',\n",
       " '3hrs',\n",
       " '3rd',\n",
       " '40',\n",
       " '40 min',\n",
       " '40 minutes',\n",
       " '400',\n",
       " '45',\n",
       " '45 min',\n",
       " '45 mins',\n",
       " '45 minutes',\n",
       " '48',\n",
       " '50',\n",
       " '50 voucher',\n",
       " '500',\n",
       " '55',\n",
       " '59',\n",
       " '5hrs',\n",
       " '60',\n",
       " '700',\n",
       " '728',\n",
       " '75',\n",
       " '787',\n",
       " '7am',\n",
       " '800',\n",
       " '800 number',\n",
       " '90',\n",
       " '90 minutes',\n",
       " 'a320',\n",
       " 'aa',\n",
       " 'abc',\n",
       " 'able',\n",
       " 'able get',\n",
       " 'absolute',\n",
       " 'absolutely',\n",
       " 'absurd',\n",
       " 'accept',\n",
       " 'acceptable',\n",
       " 'accepted',\n",
       " 'accepting',\n",
       " 'access',\n",
       " 'accommodate',\n",
       " 'according',\n",
       " 'account',\n",
       " 'actual',\n",
       " 'actually',\n",
       " 'add',\n",
       " 'added',\n",
       " 'adding',\n",
       " 'additional',\n",
       " 'address',\n",
       " 'admirals',\n",
       " 'admirals club',\n",
       " 'advance',\n",
       " 'advantage',\n",
       " 'advice',\n",
       " 'advise',\n",
       " 'advisory',\n",
       " 'afford',\n",
       " 'afternoon',\n",
       " 'age',\n",
       " 'agent',\n",
       " 'agent phone',\n",
       " 'agents',\n",
       " 'ago',\n",
       " 'ah',\n",
       " 'ahead',\n",
       " 'ahold',\n",
       " 'air',\n",
       " 'aircraft',\n",
       " 'airfare',\n",
       " 'airline',\n",
       " 'airline cancelled',\n",
       " 'airline ever',\n",
       " 'airline ve',\n",
       " 'airlines',\n",
       " 'airplane',\n",
       " 'airport',\n",
       " 'airports',\n",
       " 'airways',\n",
       " 'alert',\n",
       " 'all',\n",
       " 'allow',\n",
       " 'allowed',\n",
       " 'allowing',\n",
       " 'almost',\n",
       " 'almost hour',\n",
       " 'almost hours',\n",
       " 'alone',\n",
       " 'along',\n",
       " 'already',\n",
       " 'alright',\n",
       " 'also',\n",
       " 'alternate',\n",
       " 'although',\n",
       " 'always',\n",
       " 'amazing',\n",
       " 'amazing customer',\n",
       " 'america',\n",
       " 'american',\n",
       " 'american airlines',\n",
       " 'americanairlines',\n",
       " 'among',\n",
       " 'amount',\n",
       " 'amp',\n",
       " 'amp ca',\n",
       " 'amp gate',\n",
       " 'amp got',\n",
       " 'amp hold',\n",
       " 'amp one',\n",
       " 'amp told',\n",
       " 'and',\n",
       " 'angry',\n",
       " 'anniversary',\n",
       " 'announced',\n",
       " 'announcement',\n",
       " 'annoying',\n",
       " 'another',\n",
       " 'another airline',\n",
       " 'another flight',\n",
       " 'another hour',\n",
       " 'answer',\n",
       " 'answer phone',\n",
       " 'answer phones',\n",
       " 'answered',\n",
       " 'answering',\n",
       " 'answers',\n",
       " 'anymore',\n",
       " 'anyone',\n",
       " 'anything',\n",
       " 'anyway',\n",
       " 'anywhere',\n",
       " 'apart',\n",
       " 'apologies',\n",
       " 'apologize',\n",
       " 'apology',\n",
       " 'app',\n",
       " 'apparently',\n",
       " 'appears',\n",
       " 'applied',\n",
       " 'apply',\n",
       " 'appreciate',\n",
       " 'appreciated',\n",
       " 'april',\n",
       " 'area',\n",
       " 'around',\n",
       " 'arrival',\n",
       " 'arrive',\n",
       " 'arrived',\n",
       " 'arrives',\n",
       " 'arriving',\n",
       " 'asap',\n",
       " 'ashamed',\n",
       " 'ask',\n",
       " 'asked',\n",
       " 'asking',\n",
       " 'assigned',\n",
       " 'assist',\n",
       " 'assistance',\n",
       " 'atl',\n",
       " 'atlanta',\n",
       " 'attempt',\n",
       " 'attendant',\n",
       " 'attendants',\n",
       " 'attitude',\n",
       " 'august',\n",
       " 'aus',\n",
       " 'austin',\n",
       " 'auto',\n",
       " 'automated',\n",
       " 'automated system',\n",
       " 'automatically',\n",
       " 'avail',\n",
       " 'availability',\n",
       " 'available',\n",
       " 'avgeek',\n",
       " 'aviation',\n",
       " 'avoid',\n",
       " 'award',\n",
       " 'awards',\n",
       " 'aware',\n",
       " 'away',\n",
       " 'awesome',\n",
       " 'awesome thanks',\n",
       " 'awful',\n",
       " 'b4',\n",
       " 'baby',\n",
       " 'back',\n",
       " 'back gate',\n",
       " 'back home',\n",
       " 'back late',\n",
       " 'bad',\n",
       " 'bad airline',\n",
       " 'bad customer',\n",
       " 'bad experience',\n",
       " 'bad service',\n",
       " 'bad weather',\n",
       " 'badcustomerservice',\n",
       " 'badservice',\n",
       " 'bag',\n",
       " 'bag flight',\n",
       " 'bag lost',\n",
       " 'baggage',\n",
       " 'baggage claim',\n",
       " 'baggage fees',\n",
       " 'baggage office',\n",
       " 'bags',\n",
       " 'band',\n",
       " 'bank',\n",
       " 'barely',\n",
       " 'based',\n",
       " 'bathroom',\n",
       " 'bc',\n",
       " 'bday',\n",
       " 'bdl',\n",
       " 'beach',\n",
       " 'beautiful',\n",
       " 'become',\n",
       " 'begin',\n",
       " 'beginning',\n",
       " 'behind',\n",
       " 'believe',\n",
       " 'best',\n",
       " 'best airline',\n",
       " 'bet',\n",
       " 'beyond',\n",
       " 'big',\n",
       " 'big thanks',\n",
       " 'bin',\n",
       " 'birthday',\n",
       " 'bit',\n",
       " 'biz',\n",
       " 'blame',\n",
       " 'blog',\n",
       " 'blue',\n",
       " 'bluemanity',\n",
       " 'bna',\n",
       " 'board',\n",
       " 'boarded',\n",
       " 'boarding',\n",
       " 'boarding pass',\n",
       " 'boarding passes',\n",
       " 'boards',\n",
       " 'book',\n",
       " 'book flight',\n",
       " 'book online',\n",
       " 'booked',\n",
       " 'booked flight',\n",
       " 'booking',\n",
       " 'booking problems',\n",
       " 'bos',\n",
       " 'boston',\n",
       " 'bother',\n",
       " 'bought',\n",
       " 'brand',\n",
       " 'break',\n",
       " 'breakfast',\n",
       " 'bring',\n",
       " 'bringing',\n",
       " 'broke',\n",
       " 'broken',\n",
       " 'brother',\n",
       " 'bs',\n",
       " 'btw',\n",
       " 'buf',\n",
       " 'buffalo',\n",
       " 'bumped',\n",
       " 'bus',\n",
       " 'business',\n",
       " 'business class',\n",
       " 'busy',\n",
       " 'buy',\n",
       " 'buying',\n",
       " 'bwi',\n",
       " 'ca',\n",
       " 'ca believe',\n",
       " 'ca book',\n",
       " 'ca change',\n",
       " 'ca dm',\n",
       " 'ca even',\n",
       " 'ca find',\n",
       " 'ca fly',\n",
       " 'ca get',\n",
       " 'ca help',\n",
       " 'ca seem',\n",
       " 'ca wait',\n",
       " 'cabin',\n",
       " 'california',\n",
       " 'call',\n",
       " 'call back',\n",
       " 'call center',\n",
       " 'call customer',\n",
       " 'call volume',\n",
       " 'callback',\n",
       " 'called',\n",
       " 'calling',\n",
       " 'calls',\n",
       " 'came',\n",
       " 'cancelled',\n",
       " 'cancelled flight',\n",
       " 'cancelled flightation',\n",
       " 'cancelled flightations',\n",
       " 'cancelled flighted',\n",
       " 'cancelled flighting',\n",
       " 'cancelled flightlation',\n",
       " 'cancelled flightlations',\n",
       " 'cancelled flightled',\n",
       " 'cancelled flightling',\n",
       " 'cancelled flights',\n",
       " 'cancun',\n",
       " 'canned',\n",
       " 'cant',\n",
       " 'captain',\n",
       " 'car',\n",
       " 'car seat',\n",
       " 'card',\n",
       " 'care',\n",
       " 'care customers',\n",
       " 'care less',\n",
       " 'carousel',\n",
       " 'carrier',\n",
       " 'carry',\n",
       " 'carry on',\n",
       " 'case',\n",
       " 'catch',\n",
       " 'catering',\n",
       " 'cause',\n",
       " 'caused',\n",
       " 'cc',\n",
       " 'cell',\n",
       " 'center',\n",
       " 'ceo',\n",
       " 'certain',\n",
       " 'certainly',\n",
       " 'certificate',\n",
       " 'chairman',\n",
       " 'chance',\n",
       " 'chances',\n",
       " 'change',\n",
       " 'change fee',\n",
       " 'change flight',\n",
       " 'changed',\n",
       " 'changes',\n",
       " 'changing',\n",
       " 'characters',\n",
       " 'charge',\n",
       " 'charged',\n",
       " 'charges',\n",
       " 'charging',\n",
       " 'charlotte',\n",
       " 'cheap',\n",
       " 'check',\n",
       " 'check bag',\n",
       " 'check flight',\n",
       " 'check in',\n",
       " 'checked',\n",
       " 'checked bag',\n",
       " 'checked baggage',\n",
       " 'checkin',\n",
       " 'checking',\n",
       " 'cheers',\n",
       " 'chi',\n",
       " 'chicago',\n",
       " 'child',\n",
       " 'children',\n",
       " 'choice',\n",
       " 'choose',\n",
       " 'cities',\n",
       " 'city',\n",
       " 'claim',\n",
       " 'class',\n",
       " 'class seat',\n",
       " 'cle',\n",
       " 'clean',\n",
       " 'clear',\n",
       " 'clearly',\n",
       " 'cleveland',\n",
       " 'close',\n",
       " 'closed',\n",
       " 'clothes',\n",
       " 'clt',\n",
       " 'club',\n",
       " 'clue',\n",
       " 'cmh',\n",
       " 'co',\n",
       " 'coach',\n",
       " 'coast',\n",
       " 'coat',\n",
       " 'code',\n",
       " 'coffee',\n",
       " 'cold',\n",
       " 'columbus',\n",
       " 'com',\n",
       " 'come',\n",
       " 'coming',\n",
       " 'communication',\n",
       " 'comp',\n",
       " 'companion',\n",
       " 'companion pass',\n",
       " 'company',\n",
       " 'compensate',\n",
       " 'compensation',\n",
       " 'complain',\n",
       " 'complaint',\n",
       " 'complaints',\n",
       " 'complete',\n",
       " 'completely',\n",
       " 'computer',\n",
       " 'computers',\n",
       " 'concern',\n",
       " 'concerns',\n",
       " 'conditions',\n",
       " 'conf',\n",
       " 'confirm',\n",
       " 'confirmation',\n",
       " 'confirmation number',\n",
       " 'confirmed',\n",
       " 'confused',\n",
       " 'congrats',\n",
       " 'connect',\n",
       " 'connected',\n",
       " 'connecting',\n",
       " 'connecting flight',\n",
       " 'connection',\n",
       " 'connections',\n",
       " 'consider',\n",
       " 'considering',\n",
       " 'cont',\n",
       " 'contact',\n",
       " 'contacted',\n",
       " 'contacting',\n",
       " 'contest',\n",
       " 'continental',\n",
       " 'continue',\n",
       " 'control',\n",
       " 'cool',\n",
       " 'corporate',\n",
       " 'correct',\n",
       " 'cost',\n",
       " 'costs',\n",
       " 'could',\n",
       " 'could get',\n",
       " 'could help',\n",
       " 'could use',\n",
       " 'count',\n",
       " 'counter',\n",
       " 'counting',\n",
       " 'country',\n",
       " 'couple',\n",
       " 'course',\n",
       " 'courteous',\n",
       " 'courtesy',\n",
       " 'cover',\n",
       " 'crap',\n",
       " 'crappy',\n",
       " 'crazy',\n",
       " 'credit',\n",
       " 'credit card',\n",
       " 'credited',\n",
       " 'credits',\n",
       " 'crew',\n",
       " 'crews',\n",
       " 'cross',\n",
       " 'cross country',\n",
       " 'crossed',\n",
       " 'cs',\n",
       " 'curious',\n",
       " 'current',\n",
       " 'currently',\n",
       " 'cust',\n",
       " 'cust service',\n",
       " 'customer',\n",
       " 'customer care',\n",
       " 'customer experience',\n",
       " 'customer relations',\n",
       " 'customer service',\n",
       " 'customers',\n",
       " 'customerservice',\n",
       " 'customs',\n",
       " 'cut',\n",
       " 'cx',\n",
       " 'dad',\n",
       " 'daily',\n",
       " 'dal',\n",
       " 'dallas',\n",
       " 'damaged',\n",
       " 'damn',\n",
       " 'date',\n",
       " 'dates',\n",
       " 'daughter',\n",
       " 'day',\n",
       " 'days',\n",
       " 'days ago',\n",
       " 'dc',\n",
       " 'dca',\n",
       " 'de',\n",
       " 'dead',\n",
       " 'deal',\n",
       " 'dealing',\n",
       " 'deals',\n",
       " 'death',\n",
       " 'december',\n",
       " 'decided',\n",
       " 'decision',\n",
       " 'definitely',\n",
       " 'delay',\n",
       " 'delay due',\n",
       " 'delay flight',\n",
       " 'delayed',\n",
       " 'delayed cancelled',\n",
       " 'delayed due',\n",
       " 'delayed flight',\n",
       " 'delayed flights',\n",
       " 'delayed hours',\n",
       " 'delaying',\n",
       " 'delays',\n",
       " 'delays cancelled',\n",
       " 'deliver',\n",
       " 'delivered',\n",
       " 'delivery',\n",
       " 'delta',\n",
       " 'den',\n",
       " 'denied',\n",
       " 'denver',\n",
       " 'depart',\n",
       " 'departing',\n",
       " 'department',\n",
       " 'departs',\n",
       " 'departure',\n",
       " 'departure time',\n",
       " 'departures',\n",
       " 'deplane',\n",
       " 'deplaned',\n",
       " 'dept',\n",
       " 'deserves',\n",
       " 'desk',\n",
       " 'despite',\n",
       " 'destination',\n",
       " 'destinationdragons',\n",
       " 'details',\n",
       " 'dfw',\n",
       " 'dfw cancelled',\n",
       " 'dia',\n",
       " 'didnt',\n",
       " 'diego',\n",
       " 'diff',\n",
       " 'difference',\n",
       " 'different',\n",
       " 'dinner',\n",
       " 'direct',\n",
       " 'direct flight',\n",
       " 'direct flights',\n",
       " 'directly',\n",
       " 'dirty',\n",
       " 'disappointed',\n",
       " 'disappointing',\n",
       " 'disappointment',\n",
       " 'disaster',\n",
       " 'disconnected',\n",
       " 'disconnects',\n",
       " 'disgusted',\n",
       " 'disgusting',\n",
       " 'dividend',\n",
       " 'dividend miles',\n",
       " 'dm',\n",
       " 'dm confirmation',\n",
       " 'dm please',\n",
       " 'dm sent',\n",
       " 'dmed',\n",
       " 'dog',\n",
       " 'dollars',\n",
       " 'domestic',\n",
       " 'done',\n",
       " 'dont',\n",
       " 'door',\n",
       " 'double',\n",
       " 'dragons',\n",
       " 'drink',\n",
       " 'drinks',\n",
       " 'drive',\n",
       " 'driving',\n",
       " 'drop',\n",
       " 'dropped',\n",
       " 'drove',\n",
       " 'due',\n",
       " 'due mechanical',\n",
       " 'due weather',\n",
       " 'dulles',\n",
       " 'early',\n",
       " 'early flight',\n",
       " 'earn',\n",
       " 'east',\n",
       " 'easy',\n",
       " 'eat',\n",
       " 'economy',\n",
       " 'either',\n",
       " 'elevate',\n",
       " 'elite',\n",
       " 'else',\n",
       " 'elsewhere',\n",
       " 'email',\n",
       " 'email address',\n",
       " 'emailed',\n",
       " 'emails',\n",
       " 'embarrassing',\n",
       " 'emergency',\n",
       " 'employee',\n",
       " 'employees',\n",
       " 'empty',\n",
       " 'empty seats',\n",
       " 'end',\n",
       " 'ended',\n",
       " 'engine',\n",
       " 'english',\n",
       " 'enjoy',\n",
       " 'enough',\n",
       " 'enter',\n",
       " 'entertainment',\n",
       " 'entire',\n",
       " 'equipment',\n",
       " 'error',\n",
       " 'error message',\n",
       " 'especially',\n",
       " 'est',\n",
       " 'estimated',\n",
       " 'etc',\n",
       " 'even',\n",
       " 'even get',\n",
       " 'even though',\n",
       " 'evening',\n",
       " 'event',\n",
       " 'eventually',\n",
       " 'ever',\n",
       " 'ever experienced',\n",
       " 'every',\n",
       " 'every flight',\n",
       " 'every time',\n",
       " 'every week',\n",
       " 'everyone',\n",
       " 'everyone else',\n",
       " 'everything',\n",
       " 'ewr',\n",
       " 'exact',\n",
       " 'exactly',\n",
       " 'example',\n",
       " 'excellent',\n",
       " 'except',\n",
       " 'exchange',\n",
       " 'excited',\n",
       " 'excuse',\n",
       " 'exec',\n",
       " 'existent',\n",
       " 'exit',\n",
       " 'exit row',\n",
       " 'expect',\n",
       " 'expected',\n",
       " 'expensive',\n",
       " 'experience',\n",
       " 'experience ever',\n",
       " 'experienced',\n",
       " 'expired',\n",
       " 'expires',\n",
       " 'explain',\n",
       " 'explanation',\n",
       " 'extra',\n",
       " 'extremely',\n",
       " 'faa',\n",
       " 'fabulous',\n",
       " 'face',\n",
       " 'fact',\n",
       " 'fail',\n",
       " 'failed',\n",
       " 'failure',\n",
       " 'fair',\n",
       " 'family',\n",
       " 'fan',\n",
       " 'fans',\n",
       " 'fantastic',\n",
       " 'far',\n",
       " 'fare',\n",
       " 'fares',\n",
       " 'fast',\n",
       " 'fat',\n",
       " 'father',\n",
       " 'fault',\n",
       " 'favorite',\n",
       " 'favorite airline',\n",
       " 'feature',\n",
       " 'feb',\n",
       " 'february',\n",
       " 'fee',\n",
       " 'feedback',\n",
       " 'feel',\n",
       " 'feel like',\n",
       " 'feeling',\n",
       " 'fees',\n",
       " 'feet',\n",
       " 'fi',\n",
       " 'fight',\n",
       " 'figure',\n",
       " 'figured',\n",
       " 'file',\n",
       " 'file claim',\n",
       " 'filed',\n",
       " 'filled',\n",
       " 'final',\n",
       " 'final destination',\n",
       " 'finally',\n",
       " 'finally got',\n",
       " 'find',\n",
       " 'find bag',\n",
       " 'finding',\n",
       " 'fine',\n",
       " 'fingers',\n",
       " 'fingers crossed',\n",
       " 'first',\n",
       " 'first class',\n",
       " 'first flight',\n",
       " 'first time',\n",
       " 'fit',\n",
       " 'five',\n",
       " 'fix',\n",
       " 'fixed',\n",
       " 'fl',\n",
       " 'flat',\n",
       " 'fleek',\n",
       " 'fleek http',\n",
       " 'fleet',\n",
       " 'fleet fleek',\n",
       " 'flew',\n",
       " 'flight',\n",
       " 'flight attendant',\n",
       " 'flight attendants',\n",
       " 'flight back',\n",
       " 'flight booked',\n",
       " 'flight booking',\n",
       " 'flight ca',\n",
       " 'flight cancelled',\n",
       " 'flight change',\n",
       " 'flight crew',\n",
       " 'flight day',\n",
       " 'flight delay',\n",
       " 'flight delayed',\n",
       " 'flight dfw',\n",
       " 'flight due',\n",
       " 'flight experience',\n",
       " 'flight flight',\n",
       " 'flight flights',\n",
       " 'flight get',\n",
       " 'flight got',\n",
       " 'flight home',\n",
       " 'flight http',\n",
       " 'flight info',\n",
       " 'flight jfk',\n",
       " 'flight late',\n",
       " 'flight leaving',\n",
       " 'flight made',\n",
       " 'flight one',\n",
       " 'flight phl',\n",
       " 'flight please',\n",
       " 'flight reservation',\n",
       " 'flight san',\n",
       " 'flight scheduled',\n",
       " 'flight status',\n",
       " 'flight still',\n",
       " 'flight time',\n",
       " 'flight times',\n",
       " 'flight today',\n",
       " 'flight tomorrow',\n",
       " 'flight tonight',\n",
       " 'flight voucher',\n",
       " 'flight want',\n",
       " 'flight without',\n",
       " 'flight yesterday',\n",
       " 'flightation',\n",
       " 'flightations',\n",
       " 'flightd',\n",
       " 'flighted',\n",
       " 'flighted flight',\n",
       " 'flighted flights',\n",
       " 'flighting',\n",
       " 'flighting flight',\n",
       " 'flighting flights',\n",
       " 'flightlation',\n",
       " 'flightlations',\n",
       " 'flightled',\n",
       " 'flightled ca',\n",
       " 'flightled flight',\n",
       " 'flightled flights',\n",
       " 'flightled today',\n",
       " 'flightling',\n",
       " 'flightr',\n",
       " 'flightr still',\n",
       " 'flights',\n",
       " 'flights cancelled',\n",
       " 'flights http',\n",
       " 'flights today',\n",
       " 'flights tomorrow',\n",
       " 'flightst',\n",
       " 'fll',\n",
       " 'floor',\n",
       " 'florida',\n",
       " 'flown',\n",
       " 'flt',\n",
       " 'fly',\n",
       " 'fly home',\n",
       " 'fly southwest',\n",
       " 'fly united',\n",
       " 'flyers',\n",
       " 'flyfi',\n",
       " 'flying',\n",
       " 'flying experience',\n",
       " 'flying guys',\n",
       " 'flyingitforward',\n",
       " 'folks',\n",
       " 'follow',\n",
       " 'follow back',\n",
       " 'follow dm',\n",
       " 'followed',\n",
       " 'following',\n",
       " 'food',\n",
       " 'forced',\n",
       " 'forever',\n",
       " 'forgot',\n",
       " 'form',\n",
       " 'fort',\n",
       " 'fort lauderdale',\n",
       " 'forward',\n",
       " 'found',\n",
       " 'four',\n",
       " 'francisco',\n",
       " 'fraud',\n",
       " 'free',\n",
       " 'free tv',\n",
       " 'freezing',\n",
       " 'frequent',\n",
       " 'frequent fly',\n",
       " 'friday',\n",
       " 'friend',\n",
       " 'friendly',\n",
       " 'friends',\n",
       " 'frm',\n",
       " 'front',\n",
       " 'frozen',\n",
       " 'frustrated',\n",
       " 'frustrating',\n",
       " 'frustration',\n",
       " 'fuck',\n",
       " 'fucking',\n",
       " 'fuel',\n",
       " 'full',\n",
       " 'fun',\n",
       " 'funeral',\n",
       " 'funny',\n",
       " 'future',\n",
       " 'fyi',\n",
       " 'game',\n",
       " 'gate',\n",
       " 'gate agent',\n",
       " 'gate agents',\n",
       " 'gate attendant',\n",
       " 'gate changes',\n",
       " 'gates',\n",
       " 'gave',\n",
       " 'get',\n",
       " 'get another',\n",
       " 'get anyone',\n",
       " 'get back',\n",
       " 'get bag',\n",
       " 'get call',\n",
       " 'get flight',\n",
       " 'get free',\n",
       " 'get gate',\n",
       " 'get help',\n",
       " 'get home',\n",
       " 'get one',\n",
       " 'get plane',\n",
       " 'get refund',\n",
       " 'get thru',\n",
       " 'get tickets',\n",
       " 'get together',\n",
       " 'get us',\n",
       " 'gets',\n",
       " 'getting',\n",
       " 'getting back',\n",
       " 'getting bad',\n",
       " 'getting cancelled',\n",
       " 'getting home',\n",
       " 'getting us',\n",
       " 'girlfriend',\n",
       " 'give',\n",
       " 'give us',\n",
       " 'given',\n",
       " 'gives',\n",
       " 'giving',\n",
       " 'glad',\n",
       " 'global',\n",
       " 'go',\n",
       " 'go back',\n",
       " 'go home',\n",
       " 'god',\n",
       " 'goes',\n",
       " 'going',\n",
       " 'going make',\n",
       " 'going miss',\n",
       " 'gold',\n",
       " 'golf',\n",
       " 'gon',\n",
       " 'gon na',\n",
       " 'gone',\n",
       " 'good',\n",
       " 'good luck',\n",
       " 'good service',\n",
       " 'good work',\n",
       " 'got',\n",
       " 'got call',\n",
       " 'got cancelled',\n",
       " 'got email',\n",
       " 'got flight',\n",
       " 'got rebooked',\n",
       " 'got ta',\n",
       " 'got us',\n",
       " 'gotten',\n",
       " 'great',\n",
       " 'great customer',\n",
       " 'great flight',\n",
       " 'great job',\n",
       " 'great service',\n",
       " 'great thank',\n",
       " 'ground',\n",
       " 'ground crew',\n",
       " 'group',\n",
       " 'gt',\n",
       " 'guarantee',\n",
       " 'guess',\n",
       " 'guy',\n",
       " 'guys',\n",
       " 'guys best',\n",
       " 'guys rock',\n",
       " 'ha',\n",
       " 'haha',\n",
       " 'half',\n",
       " 'half hour',\n",
       " 'handle',\n",
       " 'handled',\n",
       " 'handling',\n",
       " 'hands',\n",
       " ...]"
      ]
     },
     "execution_count": 153,
     "metadata": {},
     "output_type": "execute_result"
    }
   ],
   "source": [
    "vectorizer.get_feature_names()"
   ]
  },
  {
   "cell_type": "code",
   "execution_count": 154,
   "metadata": {},
   "outputs": [],
   "source": [
    "from sklearn.svm import SVC"
   ]
  },
  {
   "cell_type": "code",
   "execution_count": 155,
   "metadata": {},
   "outputs": [
    {
     "name": "stderr",
     "output_type": "stream",
     "text": [
      "C:\\Users\\nidhi\\Anaconda3\\lib\\site-packages\\sklearn\\svm\\base.py:193: FutureWarning: The default value of gamma will change from 'auto' to 'scale' in version 0.22 to account better for unscaled features. Set gamma explicitly to 'auto' or 'scale' to avoid this warning.\n",
      "  \"avoid this warning.\", FutureWarning)\n"
     ]
    },
    {
     "data": {
      "text/plain": [
       "SVC(C=1.0, cache_size=200, class_weight=None, coef0=0.0,\n",
       "    decision_function_shape='ovr', degree=3, gamma='auto_deprecated',\n",
       "    kernel='rbf', max_iter=-1, probability=False, random_state=None,\n",
       "    shrinking=True, tol=0.001, verbose=False)"
      ]
     },
     "execution_count": 155,
     "metadata": {},
     "output_type": "execute_result"
    }
   ],
   "source": [
    "classifier=SVC()\n",
    "classifier.fit(features_process,y_train)"
   ]
  },
  {
   "cell_type": "code",
   "execution_count": 162,
   "metadata": {},
   "outputs": [],
   "source": [
    "from sklearn.ensemble import RandomForestClassifier"
   ]
  },
  {
   "cell_type": "code",
   "execution_count": 163,
   "metadata": {},
   "outputs": [],
   "source": [
    "random_class=RandomForestClassifier(n_estimators=200,random_state=0)"
   ]
  },
  {
   "cell_type": "code",
   "execution_count": 164,
   "metadata": {},
   "outputs": [
    {
     "data": {
      "text/plain": [
       "RandomForestClassifier(bootstrap=True, class_weight=None, criterion='gini',\n",
       "                       max_depth=None, max_features='auto', max_leaf_nodes=None,\n",
       "                       min_impurity_decrease=0.0, min_impurity_split=None,\n",
       "                       min_samples_leaf=1, min_samples_split=2,\n",
       "                       min_weight_fraction_leaf=0.0, n_estimators=200,\n",
       "                       n_jobs=None, oob_score=False, random_state=0, verbose=0,\n",
       "                       warm_start=False)"
      ]
     },
     "execution_count": 164,
     "metadata": {},
     "output_type": "execute_result"
    }
   ],
   "source": [
    "random_class.fit(features_process,y_train)"
   ]
  },
  {
   "cell_type": "code",
   "execution_count": 165,
   "metadata": {},
   "outputs": [
    {
     "data": {
      "text/plain": [
       "0.7406193078324226"
      ]
     },
     "execution_count": 165,
     "metadata": {},
     "output_type": "execute_result"
    }
   ],
   "source": [
    "random_class.score(test_data,y_test)"
   ]
  },
  {
   "cell_type": "code",
   "execution_count": 156,
   "metadata": {},
   "outputs": [
    {
     "data": {
      "text/plain": [
       "0.6145719489981785"
      ]
     },
     "execution_count": 156,
     "metadata": {},
     "output_type": "execute_result"
    }
   ],
   "source": [
    "classifier.score(test_data,y_test)"
   ]
  },
  {
   "cell_type": "code",
   "execution_count": 157,
   "metadata": {},
   "outputs": [],
   "source": [
    "y_pred=classifier.predict(test_data)"
   ]
  },
  {
   "cell_type": "code",
   "execution_count": 166,
   "metadata": {},
   "outputs": [
    {
     "data": {
      "text/plain": [
       "array(['negative', 'negative', 'neutral', ..., 'negative', 'negative',\n",
       "       'negative'], dtype=object)"
      ]
     },
     "execution_count": 166,
     "metadata": {},
     "output_type": "execute_result"
    }
   ],
   "source": [
    "random_class.predict(test_data)"
   ]
  },
  {
   "cell_type": "code",
   "execution_count": 158,
   "metadata": {},
   "outputs": [
    {
     "data": {
      "text/plain": [
       "array(['negative', 'negative', 'negative', ..., 'negative', 'negative',\n",
       "       'negative'], dtype=object)"
      ]
     },
     "execution_count": 158,
     "metadata": {},
     "output_type": "execute_result"
    }
   ],
   "source": [
    "y_pred"
   ]
  },
  {
   "cell_type": "code",
   "execution_count": 159,
   "metadata": {},
   "outputs": [],
   "source": [
    "answer=classifier.predict(test_tfid_data)"
   ]
  },
  {
   "cell_type": "code",
   "execution_count": 168,
   "metadata": {},
   "outputs": [],
   "source": [
    "random_answer1=random_class.predict(test_tfid_data)"
   ]
  },
  {
   "cell_type": "code",
   "execution_count": 160,
   "metadata": {},
   "outputs": [
    {
     "data": {
      "text/plain": [
       "array(['negative', 'negative', 'negative', ..., 'negative', 'negative',\n",
       "       'negative'], dtype=object)"
      ]
     },
     "execution_count": 160,
     "metadata": {},
     "output_type": "execute_result"
    }
   ],
   "source": [
    "answer"
   ]
  },
  {
   "cell_type": "code",
   "execution_count": 169,
   "metadata": {},
   "outputs": [
    {
     "data": {
      "text/plain": [
       "array(['negative', 'negative', 'negative', ..., 'neutral', 'positive',\n",
       "       'negative'], dtype=object)"
      ]
     },
     "execution_count": 169,
     "metadata": {},
     "output_type": "execute_result"
    }
   ],
   "source": [
    "random_answer1"
   ]
  },
  {
   "cell_type": "code",
   "execution_count": 161,
   "metadata": {},
   "outputs": [],
   "source": [
    "np.savetxt(fname=\"answer._twitter2.csv\", X=answer, delimiter=',', fmt=\"%s\")"
   ]
  },
  {
   "cell_type": "code",
   "execution_count": 170,
   "metadata": {},
   "outputs": [],
   "source": [
    "np.savetxt(fname=\"answer._twitter2_random_forest.csv\", X=random_answer1, delimiter=',', fmt=\"%s\")"
   ]
  }
 ],
 "metadata": {
  "kernelspec": {
   "display_name": "Python 3",
   "language": "python",
   "name": "python3"
  },
  "language_info": {
   "codemirror_mode": {
    "name": "ipython",
    "version": 3
   },
   "file_extension": ".py",
   "mimetype": "text/x-python",
   "name": "python",
   "nbconvert_exporter": "python",
   "pygments_lexer": "ipython3",
   "version": "3.7.4"
  }
 },
 "nbformat": 4,
 "nbformat_minor": 2
}
